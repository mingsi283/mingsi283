{
 "cells": [
  {
   "cell_type": "code",
   "execution_count": 4,
   "metadata": {},
   "outputs": [],
   "source": [
    "'''\n",
    "Description: \n",
    "Author: mingsi\n",
    "Date: 2022-07-09 00:19:00\n",
    "LastEditTime: 2023-02-17 22:29:32\n",
    "LastEditors: mingsi\n",
    "FilePath: /Python爬虫/csdn.ipynb\n",
    "联系:liaomingsi@gmail.com\n",
    "'''\n",
    "import time\n",
    "from selenium import webdriver\n",
    "from selenium.webdriver.common.by import By\n",
    " \n",
    "driver = webdriver.Chrome()\n",
    " \n",
    "driver.get(\"https://www.csdn.net/\")\n",
    "driver.find_element(by=By.ID, value='toolbar-search-input').send_keys('python')\n",
    " \n",
    "driver.find_element(by=By.ID, value='toolbar-search-button').click()\n",
    " \n",
    "time.sleep(6)\n",
    "driver.quit()"
   ]
  }
 ],
 "metadata": {
  "kernelspec": {
   "display_name": "Python 3",
   "language": "python",
   "name": "python3"
  },
  "language_info": {
   "codemirror_mode": {
    "name": "ipython",
    "version": 3
   },
   "file_extension": ".py",
   "mimetype": "text/x-python",
   "name": "python",
   "nbconvert_exporter": "python",
   "pygments_lexer": "ipython3",
   "version": "3.10.4"
  },
  "orig_nbformat": 4,
  "vscode": {
   "interpreter": {
    "hash": "949777d72b0d2535278d3dc13498b2535136f6dfe0678499012e853ee9abcab1"
   }
  }
 },
 "nbformat": 4,
 "nbformat_minor": 2
}
