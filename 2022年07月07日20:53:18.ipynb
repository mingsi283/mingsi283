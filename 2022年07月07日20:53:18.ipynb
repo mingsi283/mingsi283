{
 "cells": [
  {
   "cell_type": "code",
   "execution_count": 1,
   "metadata": {},
   "outputs": [
    {
     "ename": "NameError",
     "evalue": "name 'input_tag' is not defined",
     "output_type": "error",
     "traceback": [
      "\u001b[0;31m---------------------------------------------------------------------------\u001b[0m",
      "\u001b[0;31mNameError\u001b[0m                                 Traceback (most recent call last)",
      "\u001b[1;32m/Users/ms/Python爬虫/2022年07月07日20:53:18.ipynb 单元格 1\u001b[0m in \u001b[0;36m<cell line: 5>\u001b[0;34m()\u001b[0m\n\u001b[1;32m      <a href='vscode-notebook-cell:/Users/ms/Python%E7%88%AC%E8%99%AB/2022%E5%B9%B407%E6%9C%8807%E6%97%A520%3A53%3A18.ipynb#W0sZmlsZQ%3D%3D?line=7'>8</a>\u001b[0m \u001b[39m# 1、往jd发送请求\u001b[39;00m\n\u001b[1;32m      <a href='vscode-notebook-cell:/Users/ms/Python%E7%88%AC%E8%99%AB/2022%E5%B9%B407%E6%9C%8807%E6%97%A520%3A53%3A18.ipynb#W0sZmlsZQ%3D%3D?line=8'>9</a>\u001b[0m driver\u001b[39m.\u001b[39mget(\u001b[39m'\u001b[39m\u001b[39mhttps://www.jd.com/\u001b[39m\u001b[39m'\u001b[39m)\n\u001b[0;32m---> <a href='vscode-notebook-cell:/Users/ms/Python%E7%88%AC%E8%99%AB/2022%E5%B9%B407%E6%9C%8807%E6%97%A520%3A53%3A18.ipynb#W0sZmlsZQ%3D%3D?line=9'>10</a>\u001b[0m input_tag\u001b[39m.\u001b[39msend_keys(\u001b[39m'\u001b[39m\u001b[39m华为\u001b[39m\u001b[39m'\u001b[39m)\n\u001b[1;32m     <a href='vscode-notebook-cell:/Users/ms/Python%E7%88%AC%E8%99%AB/2022%E5%B9%B407%E6%9C%8807%E6%97%A520%3A53%3A18.ipynb#W0sZmlsZQ%3D%3D?line=10'>11</a>\u001b[0m \u001b[39m# 键盘回车\u001b[39;00m\n\u001b[1;32m     <a href='vscode-notebook-cell:/Users/ms/Python%E7%88%AC%E8%99%AB/2022%E5%B9%B407%E6%9C%8807%E6%97%A520%3A53%3A18.ipynb#W0sZmlsZQ%3D%3D?line=11'>12</a>\u001b[0m input_tag\u001b[39m.\u001b[39msend_keys(Keys\u001b[39m.\u001b[39mENTER)\n",
      "\u001b[0;31mNameError\u001b[0m: name 'input_tag' is not defined"
     ]
    }
   ],
   "source": [
    "from selenium import webdriver\n",
    "from selenium.webdriver.common.keys import Keys\n",
    "import time\n",
    " \n",
    "try:\n",
    "    driver = webdriver.Chrome()\n",
    "    driver.implicitly_wait(10)\n",
    "    # 1、往jd发送请求\n",
    "    driver.get('https://www.jd.com/')\n",
    "    input_tag.send_keys('华为')\n",
    "    # 键盘回车\n",
    "    input_tag.send_keys(Keys.ENTER)\n",
    "    time.sleep(2)\n",
    "    # 找到输入框输入墨菲定\n",
    "    input_tag = driver.find_element_by_id('key')\n",
    "    input_tag.clear()\n",
    "    input_tag.send_keys('樊登读书')\n",
    "    # 找到搜索按钮点击搜索\n",
    "    button = driver.find_element_by_class_name('button')\n",
    "    button.click()\n",
    "    time.sleep(10)\n",
    " \n",
    "finally:\n",
    "    driver.close()"
   ]
  }
 ],
 "metadata": {
  "kernelspec": {
   "display_name": "Python 3",
   "language": "python",
   "name": "python3"
  },
  "language_info": {
   "codemirror_mode": {
    "name": "ipython",
    "version": 3
   },
   "file_extension": ".py",
   "mimetype": "text/x-python",
   "name": "python",
   "nbconvert_exporter": "python",
   "pygments_lexer": "ipython3",
   "version": "3.10.4"
  },
  "orig_nbformat": 4,
  "vscode": {
   "interpreter": {
    "hash": "949777d72b0d2535278d3dc13498b2535136f6dfe0678499012e853ee9abcab1"
   }
  }
 },
 "nbformat": 4,
 "nbformat_minor": 2
}
